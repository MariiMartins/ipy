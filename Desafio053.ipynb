{
 "cells": [
  {
   "cell_type": "code",
   "execution_count": null,
   "metadata": {},
   "outputs": [],
   "source": [
    "#Desafio053\n",
    "#Crie um programa que leia uma frase qualquer e diga se ela é palíndromo, desconsiderando os espaços.\n",
    "frase = str(input('Digite uma frase: ')).strip().upper()\n",
    "palavras=frase.split()\n",
    "junto = ''.join(palavras)\n",
    "inverso = ''\n",
    "for letra in range (len(junto)-1, -1, -1 ):\n",
    "  inverso += junto[letra]\n",
    "if inverso == junto:\n",
    "  print('Temos um palindromo!')\n",
    "else:\n",
    "  print('Não é palindromo')  \n",
    "##print('{}'.format(inverso))"
   ]
  }
 ],
 "metadata": {
  "language_info": {
   "name": "python"
  },
  "orig_nbformat": 4
 },
 "nbformat": 4,
 "nbformat_minor": 2
}
