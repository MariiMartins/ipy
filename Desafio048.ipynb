{
 "cells": [
  {
   "cell_type": "code",
   "execution_count": null,
   "metadata": {},
   "outputs": [],
   "source": [
    "#Desafio048\n",
    "#Faça um programa que calcule a soma entre todos os números impares que são multiplos de tres e que se encontram no intervalo de 1 até 500\n",
    "soma = 0\n",
    "for c in range(1, 501, 2):\n",
    "\tif c % 3 == 0:\n",
    "\t\tsoma = soma + c\n",
    "print ('A soma ed todos os números é {}'.format(soma))\n"
   ]
  }
 ],
 "metadata": {
  "language_info": {
   "name": "python"
  },
  "orig_nbformat": 4
 },
 "nbformat": 4,
 "nbformat_minor": 2
}
