{
 "cells": [
  {
   "cell_type": "code",
   "execution_count": null,
   "metadata": {},
   "outputs": [],
   "source": [
    "#Desenvolva um programa que leia o comprimento de tres retas e diga ao usuário se elas podem ou não formar um triângulo\n",
    "r1 = int(input('Digite um comprimento '))\n",
    "r2 = int(input('Digite um comprimento '))\n",
    "r3 = int(input('Digite um comprimento '))\n",
    "\n",
    "if r1 < r2 + r3 and r2 < r1 + r3 and r3 < r1 + r2:\n",
    "    print(\"Os segmentos acima podem formar triângulo\")\n",
    "else:\n",
    "    print(\"Os segmentos acima não podem formar triângulo\")\n",
    "\n",
    "#Resolução Guanabara    \n",
    "print('-='*20)\n",
    "print('Analisador de Triângulos')\n",
    "print('-='*20)\n",
    "r1 = float(input('Digite um comprimento '))\n",
    "r2 = float(input('Digite um comprimento '))\n",
    "r3 = float(input('Digite um comprimento '))\n",
    "if r1 < r2 + r3 and r2 < r1 + r3 and r3 < r1 + r2:\n",
    "    print(\"Os segmentos acima podem formar triângulo\")\n",
    "else:\n",
    "    print(\"Os segmentos acima não podem formar triângulo\")"
   ]
  }
 ],
 "metadata": {
  "language_info": {
   "name": "python"
  },
  "orig_nbformat": 4
 },
 "nbformat": 4,
 "nbformat_minor": 2
}
