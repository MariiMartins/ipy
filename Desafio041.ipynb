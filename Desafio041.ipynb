{
 "cells": [
  {
   "cell_type": "code",
   "execution_count": null,
   "metadata": {},
   "outputs": [],
   "source": [
    "#Desafio041\n",
    "# A confedereção Nacional de Natação precisa de um programa que leia o ano de nascimento de um atleta e mostre sua categoria, de acordo com a idade:\n",
    "#9 anos MIRIM\n",
    "#14 anos INFANTIL\n",
    "#19 JUNIOR\n",
    "#20 SENIOR\n",
    "#acima MASTER\n",
    "\n",
    "ano = int(input('Digite seu ano de nascimento '))\n",
    "categoria = 2021 - ano\n",
    "\n",
    "if categoria <=9:\n",
    "  print('MIRIM')\n",
    "elif categoria <=14:\n",
    "  print('INFANTIL')\n",
    "elif categoria <=19:\n",
    "  print('JUNIOR')\n",
    "elif categoria == 25:\n",
    "  print('SENIOR') \n",
    "else:\n",
    "  print('MASTER')   \n",
    "\n",
    "#Resolução Guanabara\n",
    "from datetime import date\n",
    "atual = date.today().year\n",
    "ano = int(input('Digite seu ano de nascimento '))\n",
    "idade = atual - ano\n",
    "if idade <=9:\n",
    "  print('MIRIM')\n",
    "elif idade <=14:\n",
    "  print('INFANTIL')\n",
    "elif idade <=19:\n",
    "  print('JUNIOR')\n",
    "elif idade <= 25:\n",
    "  print('SENIOR') \n",
    "else:\n",
    "  print('MASTER')    "
   ]
  }
 ],
 "metadata": {
  "language_info": {
   "name": "python"
  },
  "orig_nbformat": 4
 },
 "nbformat": 4,
 "nbformat_minor": 2
}
