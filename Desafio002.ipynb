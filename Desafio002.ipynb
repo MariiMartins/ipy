#Desafio2: Crie um script Py qye leia o dia, mes e o ano de nascimento de uma pessoa e mostre uma mensagem com a data formatada

dia = input('Que dia tu nasceu? ')
mes = input('Que mes tu nasceu? ')
ano = input('Que ano tu nasceu? ')
print(dia, 'de', mes, 'de', ano)
