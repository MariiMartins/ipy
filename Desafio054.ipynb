{
 "cells": [
  {
   "cell_type": "code",
   "execution_count": null,
   "metadata": {},
   "outputs": [],
   "source": [
    "#Desafio054\n",
    "#Crie um programa que leia o ano de nascimento de sete pessoas. No final, mostre quantas pessoas ainda não atingiram a maioridade e quantas já são maiores.\n",
    "\n",
    "from datetime import date\n",
    "\n",
    "atual = date.today().year\n",
    "totmaior = 0\n",
    "totmenor = 0\n",
    "for pess in range(1, 8):\n",
    "\tnasc = int(input('Em que ano a {} pessoa nasceu? '.format(pess)))\n",
    "\tidade = atual - nasc\n",
    "\tif idade >= 21:\n",
    "\t\ttotmaior += 1\n",
    "\telse:\n",
    "\t\ttotmenor += 1\n",
    "print('Ao total temos {} maiores de 21 anos '.format(totmaior))\n",
    "\t"
   ]
  }
 ],
 "metadata": {
  "language_info": {
   "name": "python"
  },
  "orig_nbformat": 4
 },
 "nbformat": 4,
 "nbformat_minor": 2
}
