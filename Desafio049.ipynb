{
 "cells": [
  {
   "cell_type": "code",
   "execution_count": null,
   "metadata": {},
   "outputs": [],
   "source": [
    "#desafio049\n",
    "#Refaça o desafio 009, mostrando a tabuada de um número que o usuário escolher, só que agora utilizando o laço for.\n",
    "num = int (input('Digite um numero para ver a tabuada: '))\n",
    "for c in range (1,11):\n",
    "  print('{} x {:2} = {}'.format(num, c, num*c))"
   ]
  }
 ],
 "metadata": {
  "language_info": {
   "name": "python"
  },
  "orig_nbformat": 4
 },
 "nbformat": 4,
 "nbformat_minor": 2
}
