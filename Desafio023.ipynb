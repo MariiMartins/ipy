{
 "cells": [
  {
   "cell_type": "code",
   "execution_count": null,
   "metadata": {},
   "outputs": [],
   "source": [
    "#Faça um programa que leia um número de 0 a 9999 e mostre na tela cada um dos digitos separados\n",
    "#Resolução Guanabara\n",
    "num = int(input('Digite um numero '))\n",
    "u = num // 1 % 10\n",
    "d = num // 10 % 10\n",
    "c = num // 100 % 10\n",
    "m = num // 1000 % 10\n",
    "print('Analisando o numero {} '.format(num))\n",
    "\n",
    "print('Milhar {} '.format(m))\n",
    "print('Centena {} '.format(c))\n",
    "print('Dezena {} '.format(d))\n",
    "print('Unidade {} '.format(u))"
   ]
  }
 ],
 "metadata": {
  "language_info": {
   "name": "python"
  },
  "orig_nbformat": 4
 },
 "nbformat": 4,
 "nbformat_minor": 2
}
