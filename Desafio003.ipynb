{
 "cells": [
  {
   "cell_type": "code",
   "execution_count": null,
   "metadata": {},
   "outputs": [],
   "source": [
    "#Desafio3 - Crie um script Py que leia dois numeros e tente mostrar a soma entre eles\n",
    "a = input(\"Digita um numero ae \")\n",
    "b = input('Digita outro numero ae ')\n",
    "soma = int(a) + int(b)\n",
    "print(soma)\n",
    "#Resolução Guanabara\n",
    "n1 = int (input('digite um numero: '))\n",
    "n2 = int (input('digite outro numero: '))\n",
    "s = n1 + n2\n",
    "print('A soma vale', s)\n",
    "print('A soma vale{}'.format(s))"
   ]
  }
 ],
 "metadata": {
  "language_info": {
   "name": "python"
  },
  "orig_nbformat": 4
 },
 "nbformat": 4,
 "nbformat_minor": 2
}
