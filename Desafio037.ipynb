{
 "cells": [
  {
   "cell_type": "code",
   "execution_count": null,
   "metadata": {},
   "outputs": [],
   "source": [
    "#Desafio037\n",
    "#Escreva um programa que leia um numero inteiro qualquer e peça para o usuário escolher qual será a base de conversão:\n",
    "#1 para binário\n",
    "#2 para octal\n",
    "#3 para hexadecimal\n",
    "\n",
    "#RESOLUÇÃO GUANABARA\n",
    "num = int (input(\"Digite um numeto inteiro: \"))\n",
    "\n",
    "print('''Escolha uma das bases para conversão:\n",
    "[1] converter para BINÁRIO\n",
    "[2] converter para OCTAL\n",
    "[3] converter para HEXADECIMAL''')\n",
    "\n",
    "opcao = int(input('Sua opção: '))\n",
    "\n",
    "if opcao == 1:\n",
    "  print('{} convertido para BINÁRIO é igual a {}'.format(num, bin(num)[2:]))\n",
    "elif opcao == 2:\n",
    "  print('{} convertido para OCTAL é igual a {}'.format(num, oct(num)[2:])) \n",
    "elif opcao == 3:  \n",
    "  print('{} convertido para HEXADECIMAL é igual a {}'.format(num, hex(num)[2:]))  \n",
    "else:\n",
    "  print('NUMERO INVALIDO')  "
   ]
  }
 ],
 "metadata": {
  "language_info": {
   "name": "python"
  },
  "orig_nbformat": 4
 },
 "nbformat": 4,
 "nbformat_minor": 2
}
