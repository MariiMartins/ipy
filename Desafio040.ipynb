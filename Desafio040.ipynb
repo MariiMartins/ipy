{
 "cells": [
  {
   "cell_type": "code",
   "execution_count": null,
   "metadata": {},
   "outputs": [],
   "source": [
    "#Desafio040\n",
    "#Crie um programa que leia duas notas de um aluno e calcule sua média, mostrando uma mensagem no final, de acordo com a média atingida:\n",
    "#abaixo de 5.0 REPROVADO\n",
    "#entre 5.0 e 6.9 RECUPERAÇÃO\n",
    "#7.0 ou mais APROVADO\n",
    "\n",
    "n1 = float(input('Digite sua P1 '))\n",
    "n2 = float(input('Digite sua P2 '))\n",
    "media = (n1+n2)/2 \n",
    "\n",
    "if media < 5.0:\n",
    "  print('REPROVADO')\n",
    "elif media <= 6.9:\n",
    "  print ('RECUPERAÇÃO')\n",
    "else:\n",
    "  print ('APROVADO')    \n",
    "print(media) \n",
    "\n",
    "#Resolução Guanabara\n",
    "nota1 = float(input('Primeira Nota: '))\n",
    "nota2 = float(input('Segunda Nota: '))\n",
    "media = (nota1+nota2) / 2\n",
    "print('Tirando {:.1f} e {:.1f}, a média do aluno é {:.1f}'.format(nota1, nota2, media))\n",
    "if media>=5 and media<7:\n",
    "  print('O aluno está em RECUPERAÇÃO')\n",
    "elif media <5:\n",
    "  print('O aluno está REPROVADO')  \n",
    "elif media <=7  :\n",
    "  print('O aluno está APROVADO')  "
   ]
  }
 ],
 "metadata": {
  "language_info": {
   "name": "python"
  },
  "orig_nbformat": 4
 },
 "nbformat": 4,
 "nbformat_minor": 2
}
