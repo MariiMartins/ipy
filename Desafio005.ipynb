{
 "cells": [
  {
   "cell_type": "code",
   "execution_count": null,
   "metadata": {},
   "outputs": [],
   "source": [
    "#Desafio 005\n",
    "#Faça um programa que leia um numero inteiro e mostre na tela seu sucessor e seu antecessor\n",
    "n1 = int(input('Digita um numero ae:\\n '))\n",
    "an = n1-1\n",
    "sn = n1+1\n",
    "print('Seu numero foi {}, o antecessor é {}, e o sucessor é {}'. format(n1,an, sn))\n",
    "\n",
    "#Resolução Guanabara\n",
    "n = int(input('Digita um numero: '))\n",
    "print('Seu numero foi {}, o antecessor é {}, e o sucessor é {}'. format(n,(n-1),(n+1)))"
   ]
  }
 ],
 "metadata": {
  "language_info": {
   "name": "python"
  },
  "orig_nbformat": 4
 },
 "nbformat": 4,
 "nbformat_minor": 2
}
