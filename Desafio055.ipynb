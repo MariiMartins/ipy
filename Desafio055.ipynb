{
 "cells": [
  {
   "cell_type": "code",
   "execution_count": null,
   "metadata": {},
   "outputs": [],
   "source": [
    "#Desafio055\n",
    "#Faça um programa que leio o peso de cinco pessoas. No final, mostre qual foi o maior e o menor peso lidos.\n",
    "maior = 0\n",
    "menor = 0\n",
    "for p in range(1,6):\n",
    "  peso = float(input('Peso da {} pessoa: '.format(p)))\n",
    "  if p == 1:\n",
    "    maior = peso\n",
    "    menor = peso\n",
    "  else:\n",
    "      if peso > maior:\n",
    "        maior = peso\n",
    "      if peso < menor:\n",
    "        menor = peso\n",
    "print ('O maior peso foi {}Kg, e o menor foi {}Kg'.format(maior, menor))          "
   ]
  }
 ],
 "metadata": {
  "language_info": {
   "name": "python"
  },
  "orig_nbformat": 4
 },
 "nbformat": 4,
 "nbformat_minor": 2
}
