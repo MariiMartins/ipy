{
 "cells": [
  {
   "cell_type": "code",
   "execution_count": null,
   "metadata": {},
   "outputs": [],
   "source": [
    "#Desafio004 Faça um programa que leia algo pelo teclado e seu tipo primitivo e todas as informações possiveis sobre ele.\n",
    "##Resolução Guanabara\n",
    "a = input(\"Digita algo ae: \")\n",
    "print('O tipo primitivo desse valor é: ', type(a))\n",
    "print('Só tem espaços ', a.isspace())\n",
    "print('É um numero? ', a.isnumeric())\n",
    "print('É alfabetico? ', a.isalpha())\n",
    "print('É alfanumerico? ', a.isalnum())\n",
    "print('Está em maiusculas? ',a.isupper())\n",
    "print('Está em minusculas? ', a.islower())\n",
    "print('Está capitalizada? ', a.istitle())"
   ]
  }
 ],
 "metadata": {
  "language_info": {
   "name": "python"
  },
  "orig_nbformat": 4
 },
 "nbformat": 4,
 "nbformat_minor": 2
}
