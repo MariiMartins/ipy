{
 "cells": [
  {
   "cell_type": "code",
   "execution_count": null,
   "metadata": {},
   "outputs": [],
   "source": [
    "#Crie um programa que leia um número Real qualquer pelo teclado e mostre na tela a sua porção Inteira.\n",
    "#Resolução Guanabara\n",
    "import math\n",
    "num = float(input('Digite um valor: '))\n",
    "print('O valor digitado foi {} e sua porção inteira é {}'.format(num, math.trunc(num)))\n",
    "\n",
    "#Resolução 2 Guanabara\n",
    "num = float(input('Digite um valor: '))\n",
    "print('O valor digitado foi {} e sua porção inteira é {}'.format(num, int(num)))"
   ]
  }
 ],
 "metadata": {
  "language_info": {
   "name": "python"
  },
  "orig_nbformat": 4
 },
 "nbformat": 4,
 "nbformat_minor": 2
}
