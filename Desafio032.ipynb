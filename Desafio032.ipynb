{
 "cells": [
  {
   "cell_type": "code",
   "execution_count": null,
   "metadata": {},
   "outputs": [],
   "source": [
    "#Faça um programa que leia um ano qualquer e mostre se ele é Bissexto.\n",
    "ano = int(input('Digite um ano: '))\n",
    "if ano%4 == 0:\n",
    "  print('é bissexto')\n",
    "else:\n",
    "  print ('não é bissexto')  \n",
    "\n",
    "#Resolução Guanabara  \n",
    "from datetime import date\n",
    "ano = int(input('Que ano quer analisar? \\n Coloque 0 para analisar o ano atual: \\n'))\n",
    "if ano ==0:\n",
    "  ano=date.today().year\n",
    "if ano % 4 == 0 and ano % 100 != 0 or ano % 400 == 0:\n",
    "\tprint('é bissexto')\n",
    "else:\n",
    "\tprint('não é bissexto')\n"
   ]
  }
 ],
 "metadata": {
  "language_info": {
   "name": "python"
  },
  "orig_nbformat": 4
 },
 "nbformat": 4,
 "nbformat_minor": 2
}
