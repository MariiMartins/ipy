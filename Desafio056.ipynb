{
 "cells": [
  {
   "cell_type": "code",
   "execution_count": null,
   "metadata": {},
   "outputs": [],
   "source": [
    "#Desafio056\n",
    "#Desenvolva um programa que leia o nome, idade e sexo de 4 pessoas. No final do programa, mostre:\n",
    "#A média de idaade do grupo\n",
    "#Qual é o nome do homem mais velho.\n",
    "#Qauntas mulheres tem menos de 20 anos.\n",
    "\n",
    "somaidade = 0\n",
    "mediaidade =0\n",
    "maidadehomem = 0\n",
    "nomevelho = ''\n",
    "totmulher20 = 0\n",
    "for p in range(1,5):\n",
    "  print('----{}----'. format(p))\n",
    "  nome = str(input('Nome ')).strip()\n",
    "  idade = int(input('Idade '))\n",
    "  sexo = str(input('[M/F] ')).strip()\n",
    "  somaidade += idade\n",
    "  if p ==1 and sexo in 'Mm':\n",
    "    maidadehomem = idade\n",
    "    nomevelho = nome\n",
    "  if sexo in 'Mm'  and idade > maidadehomem:\n",
    "    maidadehomem = idade\n",
    "    nomevelho = nome\n",
    "  if sexo in 'Ff' and idade < 20:  \n",
    "    totmulher20 +=1\n",
    "\n",
    "mediaidade = somaidade /4\n",
    "print('A média idade do grupo é de {} anos'.format(mediaidade))\n",
    "print('O homem mais velho tem {} anos e se chama {} '.format(maidadehomem, nomevelho))\n",
    "print('Ao todo são {} mulheres com menos de 20 anos'.format(totmulher20))\n"
   ]
  }
 ],
 "metadata": {
  "language_info": {
   "name": "python"
  },
  "orig_nbformat": 4
 },
 "nbformat": 4,
 "nbformat_minor": 2
}
