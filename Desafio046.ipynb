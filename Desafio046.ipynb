{
 "cells": [
  {
   "cell_type": "code",
   "execution_count": null,
   "metadata": {},
   "outputs": [],
   "source": [
    "#Desafio046\n",
    "#Faça um programa que mostre na tela uma contagem regressiva parao estouro dos fogos de artificio de 10 até 0, com uma pausa de 1 segundo entre eles.\n",
    "from time import sleep\n",
    "for c in range (10, -1, -1):\n",
    "  print(c)\n",
    "  sleep(1)\n",
    "print('!!FELIZ ANO NOVO !!') "
   ]
  }
 ],
 "metadata": {
  "language_info": {
   "name": "python"
  },
  "orig_nbformat": 4
 },
 "nbformat": 4,
 "nbformat_minor": 2
}
