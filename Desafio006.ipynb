{
 "cells": [
  {
   "cell_type": "code",
   "execution_count": null,
   "metadata": {},
   "outputs": [],
   "source": [
    "#Desafio 006\n",
    "#Crie um algoritmo que leia um número e mostre seu dobro, triplo e a raiz quadrada\n",
    "n1 = int(input('Digita um numero: \\n'))\n",
    "d = n1*2\n",
    "t= n1*3\n",
    "r= n1**(1/2)\n",
    "print('O dobro é {}, o triplo é {}, e a raíz quadrada é {}'.format (d, t, r))\n",
    "\n",
    "#Resolução Guanabara\n",
    "n = int(input('Digita um numero: \\n'))\n",
    "print('O dobro é {}, o triplo é {}, e a raíz quadrada é {:.2f}'.format ((n*2),(n*3),((n)**(1/2))))"
   ]
  }
 ],
 "metadata": {
  "language_info": {
   "name": "python"
  },
  "orig_nbformat": 4
 },
 "nbformat": 4,
 "nbformat_minor": 2
}
