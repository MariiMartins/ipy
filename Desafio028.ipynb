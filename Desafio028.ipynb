{
 "cells": [
  {
   "cell_type": "code",
   "execution_count": null,
   "metadata": {},
   "outputs": [],
   "source": [
    "#Escreva um programa que faça o computador \"pensar\" em um numero inteiro entre 0 e 5 e peça para o usuário tentar descobrir qual foi o numero escolhido pelo computador.\n",
    "#O Programa deverá escrever na tela se o usuário venceu ou perdeu\n",
    "import random\n",
    "n = int(input('Digite um numero entre 0 e 5 \\n '))\n",
    "p = random.randint(0, 5)\n",
    "if n == p:\n",
    "\tprint(\"Você Venceu!\")\n",
    "else:\n",
    "\tprint(\"Você perdeu!\")\n",
    "\n",
    "#Resolução Guanabara\n",
    "from random import randint\n",
    "computador = randint(0,5)\n",
    "print('-=-'*10)\n",
    "print('Vou pensaem em um numeto entre 0 e 5. Tente adivinhar....')\n",
    "print('-=-'*10)\n",
    "jogador = int(input('Em que numero eu pensei? '))\n",
    "if jogador == computador:\n",
    "  print('PARABÉNS VOCÊ CONSEGUIU ME VENCER')\n",
    "else:\n",
    "  print('GANHEI! Eu pensei no numero {} e não no {}'. format(computador, jogador))  "
   ]
  }
 ],
 "metadata": {
  "language_info": {
   "name": "python"
  },
  "orig_nbformat": 4
 },
 "nbformat": 4,
 "nbformat_minor": 2
}
