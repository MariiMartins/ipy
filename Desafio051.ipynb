{
 "cells": [
  {
   "cell_type": "code",
   "execution_count": null,
   "metadata": {},
   "outputs": [],
   "source": [
    "#Desafio051\n",
    "#Desenvolva um programa que leia o primeiro termo e a razão de uma PA. No final, mostre os 10 primeiros termos dessa progressão.\n",
    "primeiro = int(input('Primeiro termo: '))\n",
    "razao = int(input('Razão:'))\n",
    "decimo = primeiro+(10-1)* razao\n",
    "for c in range (primeiro , decimo + razao, razao):\n",
    "  print('{}'.format(c))"
   ]
  }
 ],
 "metadata": {
  "language_info": {
   "name": "python"
  },
  "orig_nbformat": 4
 },
 "nbformat": 4,
 "nbformat_minor": 2
}
