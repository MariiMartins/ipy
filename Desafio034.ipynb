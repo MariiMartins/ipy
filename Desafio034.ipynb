{
 "cells": [
  {
   "cell_type": "code",
   "execution_count": null,
   "metadata": {},
   "outputs": [],
   "source": [
    "#Reescreva o programa que pergunta o salário de um funcionário e calcule seu valor de aumento.\n",
    "#Para salarios superiores a R$1250 calcule um aumento de 10%\n",
    "#Para os inferiores ou iguais o aumento é de 15%\n",
    "s = int(input('Digite seu salario '))\n",
    "if s<=1250:\n",
    "  print ('Seu novo salario é R$ {:.2f}'.format(s+(s*.15)))  \n",
    "else:\n",
    "  print('Seu salario é {:.2f}'.format(s+(s*.1)))\n",
    "\n",
    "#Resolução Guanabara  \n",
    "salario = float(input('Qual é o salario do funcionário? R$ '))\n",
    "if salario <=1250:\n",
    "  novo = salario + (salario*15/100)\n",
    "else:\n",
    "  novo = salario + (salario*10/100)  \n",
    "print('Quem ganhava R${:.2f} passa a ganhar R${:.2f} agora'.format(salario, novo))  "
   ]
  }
 ],
 "metadata": {
  "language_info": {
   "name": "python"
  },
  "orig_nbformat": 4
 },
 "nbformat": 4,
 "nbformat_minor": 2
}
