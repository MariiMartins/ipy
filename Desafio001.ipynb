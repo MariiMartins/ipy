{
 "cells": [
  {
   "cell_type": "code",
   "execution_count": null,
   "metadata": {},
   "outputs": [],
   "source": [
    "#Desafio1 Faça um programa que leia o nome de uma pessoa e mostre uma mensagem de boas-vindas\n",
    "nome = input('Digite seu nominho ae: ')\n",
    "print('Bem Vind(a/o)', nome)\n",
    "#Resolução Guanabara\n",
    "nome = input('Digite seu nome: ')\n",
    "print('É um prazer te conhecer, {}!'.format(nome))"
   ]
  }
 ],
 "metadata": {
  "language_info": {
   "name": "python"
  },
  "orig_nbformat": 4
 },
 "nbformat": 4,
 "nbformat_minor": 2
}
