{
 "cells": [
  {
   "cell_type": "code",
   "execution_count": null,
   "metadata": {},
   "outputs": [],
   "source": [
    "#Faça um programa que leia um ângulo qualquer e mostre na tela o valor do seno, cosseno e tangente\n",
    "#Resolução Guanabara\n",
    "import math\n",
    "angulo = float(input('Digite o ângulo que você deseja: '))\n",
    "seno = math.sin(math.radians(angulo))\n",
    "print ('O ângulo de {} tem o SENO de {:.2f}'.format(angulo, seno))\n",
    "cosseno = math.cos(math.radians(angulo))\n",
    "print ('O ângulo de {} tem o COSSENO de {:.2f}'.format(angulo, cosseno))\n",
    "tangente = math.tan(math.radians(angulo))\n",
    "print ('O ângulo de {} tem a TANGENTE de {:.2f}'.format(angulo, tangente))"
   ]
  }
 ],
 "metadata": {
  "language_info": {
   "name": "python"
  },
  "orig_nbformat": 4
 },
 "nbformat": 4,
 "nbformat_minor": 2
}
