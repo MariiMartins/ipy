{
 "cells": [
  {
   "cell_type": "code",
   "execution_count": null,
   "metadata": {},
   "outputs": [],
   "source": [
    "#Escreva um programa que leia a velocidade de um carro. Se ele ultrapassar 80Km/h, mostre uma mensagem deizendo que ele foi multado\n",
    "#A multa vai custar R$7,00 por cada Km acima do limite\n",
    "vel=float(input('Digite a velocidade do carro: '))\n",
    "if vel >80:\n",
    "  m = ((vel-80)*7)\n",
    "  print('Você foi multado em R$ {:.2f} pois o limite é de 80Km/h'. format(m))\n",
    "else:\n",
    "  print('Bom motorista')  \n",
    "\n",
    "#Resolução Guanabara  \n",
    "velocidade = float(input('Qual a velocidade atual do carro? '))\n",
    "if velocidade > 80:\n",
    "  print ('MULTADO! Você excedeu o limite permitido que é de 80Km/h')\n",
    "  multa = (velocidade-80)*7\n",
    "  print('Você deve pagar uma multa de R$ {:.2f}!'. format(multa))\n",
    "print ('Tenha um bom dia! Dirija com segurança!')\n"
   ]
  }
 ],
 "metadata": {
  "language_info": {
   "name": "python"
  },
  "orig_nbformat": 4
 },
 "nbformat": 4,
 "nbformat_minor": 2
}
