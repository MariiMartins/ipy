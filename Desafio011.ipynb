{
 "cells": [
  {
   "cell_type": "code",
   "execution_count": null,
   "metadata": {},
   "outputs": [],
   "source": [
    "#Desafio011\n",
    "#Faça um programa que leia a largura e a altura de uma parede em metros, calcule sua área e a quantidade de tinta necessarua para pinta-la, sabendo que cada litro de tinta pinta uma área de 2m²\n",
    "l = float(input('Digita a largura: \\n'))\n",
    "h = float(input('Digite a altura: \\n'))\n",
    "a = (l*h)\n",
    "t = (a/2)\n",
    "print ('Será necessário {} litros de tinta'.format(t))\n",
    "\n",
    "#Resolução Guanabara\n",
    "l = float(input('Digita a largura: \\n'))\n",
    "h = float(input('Digite a altura: \\n'))\n",
    "a = (l*h)\n",
    "t = (a/2)\n",
    "print ('Será necessário {:.2f} litros de tinta para pintar {:.2f} m²'.format(t, a))"
   ]
  }
 ],
 "metadata": {
  "language_info": {
   "name": "python"
  },
  "orig_nbformat": 4
 },
 "nbformat": 4,
 "nbformat_minor": 2
}
