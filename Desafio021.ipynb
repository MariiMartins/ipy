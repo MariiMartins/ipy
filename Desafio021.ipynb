{
 "cells": [
  {
   "cell_type": "code",
   "execution_count": null,
   "metadata": {},
   "outputs": [],
   "source": [
    "#Faça um programa que abra e reproduza o áudio de um arquivo MP3\n",
    "#Resolução Guanabara\n",
    "import pygame\n",
    "pygame.init()\n",
    "pygame.mixer.music.load('ex21.mp3')\n",
    "pygame.mixer.music.play()\n",
    "pygame.event.wait()"
   ]
  }
 ],
 "metadata": {
  "language_info": {
   "name": "python"
  },
  "orig_nbformat": 4
 },
 "nbformat": 4,
 "nbformat_minor": 2
}
