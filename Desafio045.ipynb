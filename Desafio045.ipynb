{
 "cells": [
  {
   "cell_type": "code",
   "execution_count": null,
   "metadata": {},
   "outputs": [],
   "source": [
    "#Desafio045\n",
    "#Crie um programa que faça o computador jogar jokenpô com você\n",
    "\n",
    "from random import randint\n",
    "from time import sleep\n",
    "itens = ('Pedra','Papel','Tesoura')\n",
    "computador = randint(0,2)\n",
    "print('''Suas opções são\n",
    "[0] - PEDRA\n",
    "[1] - PAPEL\n",
    "[2] - TESOURA''')\n",
    "jogador = int(input('Qual sua jogada? '))\n",
    "print('JO')\n",
    "sleep(1)\n",
    "print('KEN')\n",
    "sleep(1)\n",
    "print('PÔ')\n",
    "print('-='* 12)\n",
    "print('Computador jogou {}'.format(itens[computador]))\n",
    "print('Jogador jogou {}'.format(itens[jogador]))\n",
    "print('-='* 12)\n",
    "if computador == 0:\n",
    "  if jogador ==0:\n",
    "    print('EMPATE')\n",
    "  elif jogador ==  1:\n",
    "    print('JOGADOR VENCE')\n",
    "  elif jogador == 2:  \n",
    "    print('COMPUTADOR VENCE')\n",
    "  else:\n",
    "    print('OPÇÃO INVALIDA')  \n",
    "elif computador ==1:\n",
    "  if jogador ==0:\n",
    "    print('COMPUTADOR VENCE')\n",
    "  elif jogador ==  1:\n",
    "    print('EMPATE')\n",
    "  elif jogador == 2:  \n",
    "    print('JOGADOR VENCE')\n",
    "  else:\n",
    "    print('OPÇÃO INVALIDA')   \n",
    "elif computador ==2:  \n",
    "  if jogador ==0:\n",
    "    print('JOGADOR VENCE')\n",
    "  elif jogador ==  1:\n",
    "    print('COMPUTADOR VENCE')\n",
    "  elif jogador == 2:  \n",
    "    print('EMPATE')\n",
    "  else:\n",
    "    print('OPÇÃO INVALIDA')\n",
    "   "
   ]
  }
 ],
 "metadata": {
  "language_info": {
   "name": "python"
  },
  "orig_nbformat": 4
 },
 "nbformat": 4,
 "nbformat_minor": 2
}
