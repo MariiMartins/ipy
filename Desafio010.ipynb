{
 "cells": [
  {
   "cell_type": "code",
   "execution_count": null,
   "metadata": {},
   "outputs": [],
   "source": [
    "#Desafio 010\n",
    "#Crie um programa que leia quanto dinheiro uma pessoa tem na carteira e mostre quantos Dólares ela pode comprar\n",
    "n1 = float(input('Digita o quanto você tem em R$: \\n'))\n",
    "d = float((n1/3.27))\n",
    "print('Você pode comprar U$ {:.2f} '.format(d))"
   ]
  }
 ],
 "metadata": {
  "language_info": {
   "name": "python"
  },
  "orig_nbformat": 4
 },
 "nbformat": 4,
 "nbformat_minor": 2
}
