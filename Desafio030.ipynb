{
 "cells": [
  {
   "cell_type": "code",
   "execution_count": null,
   "metadata": {},
   "outputs": [],
   "source": [
    "#Crie um programa que leia um numero inteiro e mostre na tela se ele é PAR ou IMPAR\n",
    "n = int(input('Digite um numero: '))\n",
    "if n%2 == 0:\n",
    "  print('é par')\n",
    "else:\n",
    "  print ('é impar')  \n",
    "\n",
    "#Resolução Guanabara  \n",
    "numero = int(input('Me diga um número qualquer: '))\n",
    "resultado = numero%2\n",
    "if resultado ==0:\n",
    "  print('O número {} é PAR'.format(numero))\n",
    "else:\n",
    "  print('O número {} é IMPAR'.format(numero))"
   ]
  }
 ],
 "metadata": {
  "language_info": {
   "name": "python"
  },
  "orig_nbformat": 4
 },
 "nbformat": 4,
 "nbformat_minor": 2
}
