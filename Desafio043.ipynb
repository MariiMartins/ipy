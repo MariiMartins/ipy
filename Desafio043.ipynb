{
 "cells": [
  {
   "cell_type": "code",
   "execution_count": null,
   "metadata": {},
   "outputs": [],
   "source": [
    "#Desafio043\n",
    "# Desenvolva uma lógica que leia o peso e a altura de uma pessoa, calcule seu IMC e mostre seu status, de acordo com a tabela abaixo:\n",
    "#abaixo de 18.5: Abaixo do peso\n",
    "#entre 18.5 e 25: pepso ideal\n",
    "#25 até 30: sobrepeso\n",
    "#30 até 40: obesidade\n",
    "#acima de 40: obesidade mórbida\n",
    "\n",
    "peso = float(input('Digite seu peso: '))\n",
    "altura = float(input('Digite sua altura: '))\n",
    "\n",
    "conta = peso/(altura**2)\n",
    "\n",
    "if conta <18.5:\n",
    "  print('Abaixo do Peso, seu IMC é de {:.2f}'.format(conta))\n",
    "elif conta <25:\n",
    "  print('Peso Ideal, seu IMC é de {:.2f}'.format(conta))\n",
    "elif conta <30:\n",
    "  print('Sobrepeso, seu IMC é de {:.2f}'.format(conta))\n",
    "elif conta < 40:\n",
    "  print ('Obesidade, seu IMC é de {:.2f}'.format(conta))\n",
    "else:\n",
    "  print('Obesidade Mórbida, seu IMC é de {:.2f}'.format(conta))\n",
    "\n",
    "\n",
    "#Resolução Guanabara\n",
    "peso = float(input('Digite seu peso: '))\n",
    "altura = float(input('Digite sua altura: '))\n",
    "imc = peso/(altura**2)\n",
    "if imc <18.5:\n",
    "  print('ABAIXO DO PESO, seu IMC é de {:.2f}'.format(imc))\n",
    "elif 18.5 <= imc < 25:\n",
    "  print('PESO IDEAL, seu IMC é de {:.2f}'.format(imc))\n",
    "elif 25 <= imc < 30:\n",
    "  print('SOBREPESO, seu IMC é de {:.2f}'.format(imc))\n",
    "elif 30 <= imc < 40:\n",
    "  print ('OBESIDADE, seu IMC é de {:.2f}'.format(imc))\n",
    "elif imc >=40:\n",
    "  print('OBESIDADE MORBIDA, seu IMC é de {:.2f}'.format(imc))  "
   ]
  }
 ],
 "metadata": {
  "language_info": {
   "name": "python"
  },
  "orig_nbformat": 4
 },
 "nbformat": 4,
 "nbformat_minor": 2
}
