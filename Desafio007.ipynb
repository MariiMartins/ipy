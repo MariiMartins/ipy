{
 "cells": [
  {
   "cell_type": "code",
   "execution_count": null,
   "metadata": {},
   "outputs": [],
   "source": [
    "#Desafio 007\n",
    "#Desenvolva um programa que leia as duas notas de um aluno, calcule e mostre sua média\n",
    "n1 = float(input('Digita a P1 ae: \\n'))\n",
    "n2 = float(input('Digita a P2 ae: \\n'))\n",
    "m = ((n1 + n2) / 2)\n",
    "print('A média é {} '. format(m))"
   ]
  }
 ],
 "metadata": {
  "language_info": {
   "name": "python"
  },
  "orig_nbformat": 4
 },
 "nbformat": 4,
 "nbformat_minor": 2
}
