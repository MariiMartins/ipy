{
 "cells": [
  {
   "cell_type": "code",
   "execution_count": null,
   "metadata": {},
   "outputs": [],
   "source": [
    "#Desafio050\n",
    "#Desenvolva um programa que leia seis numeros inteiros e mostre a soma apenas daqueles que forem pares. Se o valor gigitado for impar, desconsidere-o\n",
    "\n",
    "soma = 0\n",
    "cont = 0\n",
    "for c in range(1,7):\n",
    "  num = int(input('Digite o {}º valor: '. format(c)))\n",
    "  if num %2 ==0:\n",
    "    soma = soma + num\n",
    "    cont = cont + 1\n",
    "print('Tú informastes {} números PARES e a soma foi {}'.format(cont, soma))"
   ]
  }
 ],
 "metadata": {
  "language_info": {
   "name": "python"
  },
  "orig_nbformat": 4
 },
 "nbformat": 4,
 "nbformat_minor": 2
}
