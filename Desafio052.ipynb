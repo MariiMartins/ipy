{
 "cells": [
  {
   "cell_type": "code",
   "execution_count": null,
   "metadata": {},
   "outputs": [],
   "source": [
    "#Desafio052\n",
    "#Faça um programa que leia um numero inteiro e diga se ele é ou não um numero primo.\n",
    "\n",
    "num = int(input('Digite um número: '))\n",
    "tot = 0\n",
    "for c in range (1, num +1):\n",
    "  if num % c ==0:\n",
    "    print('\\033[34m')\n",
    "    tot +=1\n",
    "  else:  \n",
    "    print('\\033[m')\n",
    "print('\\n O número {} foi dividido {}x '.format(num, tot))\n",
    "if tot ==2:\n",
    "  print('É PRIMO')\n",
    "else:\n",
    "  print ('NÃO É PRIMO')"
   ]
  }
 ],
 "metadata": {
  "language_info": {
   "name": "python"
  },
  "orig_nbformat": 4
 },
 "nbformat": 4,
 "nbformat_minor": 2
}
