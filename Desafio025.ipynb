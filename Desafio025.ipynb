{
 "cells": [
  {
   "cell_type": "code",
   "execution_count": null,
   "metadata": {},
   "outputs": [],
   "source": [
    "#Crie um programa que leia o nome de uma pessoa e diga se ela tem 'SILVA' no nome.\n",
    "#Resolução Guanabara\n",
    "nome = str(input('Qual seu nome completo? ')).strip()\n",
    "print ('Seu nome tem Silva? {}'.format('SILVA' in nome.upper()))"
   ]
  }
 ],
 "metadata": {
  "language_info": {
   "name": "python"
  },
  "orig_nbformat": 4
 },
 "nbformat": 4,
 "nbformat_minor": 2
}
