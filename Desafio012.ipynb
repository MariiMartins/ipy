{
 "cells": [
  {
   "cell_type": "code",
   "execution_count": null,
   "metadata": {},
   "outputs": [],
   "source": [
    "#Desafio012\n",
    "#Faça um algoritmo que leia o preço de um produto e mostre seu novo preço, com 5% de desconto\n",
    "p = float(input('Digite o valor: \\n'))\n",
    "d = (p-(p*.05))\n",
    "print ('O valor após o desconto é de {:.2f}'.format(d))\n",
    "\n",
    "#Resolução Guanabara\n",
    "preco = float(input('Digite o valor em R$: \\n'))\n",
    "novo = preco - (preco * 5 / 100)\n",
    "print('O produto que custava R$ {:.2f} ,\\n na promoção com 5% vai custar R$ {:.2f} '.format(preco, novo))\n"
   ]
  }
 ],
 "metadata": {
  "language_info": {
   "name": "python"
  },
  "orig_nbformat": 4
 },
 "nbformat": 4,
 "nbformat_minor": 2
}
