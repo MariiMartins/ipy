{
 "cells": [
  {
   "cell_type": "code",
   "execution_count": null,
   "metadata": {},
   "outputs": [],
   "source": [
    "#Desafio 022\n",
    "#Crie um programa que leia o nome completo da pessoa e mostre: \n",
    "#O nome com todas as letras maiusculas\n",
    "#o Nome com todas as letras minusculas\n",
    "# quantas letras ao todo (sem considerar espaços)\n",
    "#quantas letras tem o primeiro nome\n",
    "\n",
    "nome = str(input('Digite seu nome completo '))\n",
    "mai = nome.upper()\n",
    "mi = nome.lower()\n",
    "quantidade = len(nome)\n",
    "letras = nome.split()\n",
    "letras = [1:]\n",
    "print(mai, mi, quantidade, letras)\n",
    "\n",
    "#Resolução Guanabara\n",
    "nome = str(input('Digite seu nome completo: ')).strip()\n",
    "print('Analisando seu nome... ')\n",
    "print('Seu nome em Maiuscula é {} '.format(nome.upper()))\n",
    "print('Seu nome em Minuscula é {} '.format(nome.lower()))\n",
    "print('Seu nome tem ao todo {} letras'.format(len(nome)- nome.count(' ')))\n",
    "print('Seu primeiro nome tem {} letras'.format (nome.find(' ')))"
   ]
  }
 ],
 "metadata": {
  "language_info": {
   "name": "python"
  },
  "orig_nbformat": 4
 },
 "nbformat": 4,
 "nbformat_minor": 2
}
