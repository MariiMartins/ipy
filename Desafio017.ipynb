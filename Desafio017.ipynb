{
 "cells": [
  {
   "cell_type": "code",
   "execution_count": null,
   "metadata": {},
   "outputs": [],
   "source": [
    "#Faça um programa que leia o comprimento do cateto oposto e do cateto adjacente de um triângulo retângulo. Calcule e mostre o comprimento da hipotenusa.\n",
    "#Resolução Guanabara\n",
    "co = float(input('Comprimento do cateto oposto '))\n",
    "ca = float(input('Comprimento do cateto adjacente '))\n",
    "hi = (co**2 + ca**2)**(1/2)\n",
    "print('A hipotenusa vai medir {:.2f}'.format(hi))\n",
    "\n",
    "#Resolução 2 Guanabara\n",
    "import math\n",
    "\n",
    "co = float(input('Comprimento do cateto oposto '))\n",
    "ca = float(input('Comprimento do cateto adjacente '))\n",
    "hi = math.hypot(co, ca)\n",
    "print('A hipotenusa vai medir {:.2f}'.format(hi))"
   ]
  }
 ],
 "metadata": {
  "language_info": {
   "name": "python"
  },
  "orig_nbformat": 4
 },
 "nbformat": 4,
 "nbformat_minor": 2
}
