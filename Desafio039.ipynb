{
 "cells": [
  {
   "cell_type": "code",
   "execution_count": null,
   "metadata": {},
   "outputs": [],
   "source": [
    "#Desafio039\n",
    "#Faça um programa que leia o ano de nascimento de um jovem e informe, de acordo com sua idade:\n",
    "# se ele ainda vai se alistar ao serviço militar\n",
    "# se é a hora de se alistar\n",
    "#se ja passou do tempo do alistamento.\n",
    "#seu programa também deverá mostrar o tempo que falta ou que já passou do prazo\n",
    "\n",
    "ano = int(input('Que ano você nasceu? '))\n",
    "\n",
    "conta = 2021 - ano\n",
    "\n",
    "if conta < 18:\n",
    "\tf = 18 - conta\n",
    "\tprint('Sua hora de se alistar vai chegar, faltam {} anos'.format(f))\n",
    "elif conta == 18:\n",
    "\tprint('SUA HORA CHEGOU')\n",
    "else:\n",
    "\tp = conta - 18\n",
    "\tprint('Já passou {} anos do tempo de alistamento'.format(p))\n",
    "\n",
    "#Resolução Guanabara\n",
    "from datetime import date\n",
    "atual=  date.today().year\n",
    "nasc = int(input('Que ano você nasceu? '))\n",
    "idade = atual - nasc\n",
    "print('Quem nasceu em {} tem {} anos em {}'.format(nasc, idade, atual))\n",
    "\tprint('SUA HORA CHEGOU')\n",
    "elif idade < 18:\n",
    "  saldo = 18 - idade\n",
    "  print('Ainda faltam {} anos para o alistamento'.format(saldo))\n",
    "  ano= atual + saldo\n",
    "  print ('Seu alistamento será em {} '.format(ano))\n",
    "elif idade > 18:\n",
    "  saldo = idade -18\n",
    "  print('Você já deveria ter se alistado. Passaram-se {} anos'.format(saldo))\n",
    "  ano = atual - saldo\n",
    "  print('Seu alistamento foi em {}'.format(ano))"
   ]
  }
 ],
 "metadata": {
  "language_info": {
   "name": "python"
  },
  "orig_nbformat": 4
 },
 "nbformat": 4,
 "nbformat_minor": 2
}
