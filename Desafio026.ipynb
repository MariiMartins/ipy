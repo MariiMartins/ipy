{
 "cells": [
  {
   "cell_type": "code",
   "execution_count": null,
   "metadata": {},
   "outputs": [],
   "source": [
    "#Faça um programa que leia uma frase pelo teclado e mostre\n",
    "# Quantas vezes aparece a letra 'A'\n",
    "# Em que posição ela aparece a primeira vez\n",
    "# Em que posição ela aparece a ultima vez\n",
    "frase = str(input('Digite uma frase: ')).strip().lower()\n",
    "print('O numero de instancias é {}'.format(frase.count('a')))\n",
    "\n",
    "#Resolução Guanabara\n",
    "frase = str(input('Digite uma frase: ')).strip().lower()\n",
    "print('A letra A aparece {} vezes'.format(frase.count('a')))\n",
    "print ('A primeira letra A apareceu na posição {}'. format(frase.find('a')+1))\n",
    "print ('A ultima letra A apareceu na posição {}'.format(frase.rfind('a')+1))"
   ]
  }
 ],
 "metadata": {
  "language_info": {
   "name": "python"
  },
  "orig_nbformat": 4
 },
 "nbformat": 4,
 "nbformat_minor": 2
}
