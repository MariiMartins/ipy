{
 "cells": [
  {
   "cell_type": "code",
   "execution_count": null,
   "metadata": {},
   "outputs": [],
   "source": [
    "#Desafio042\n",
    "# Refaça o desafio 035 dos triângulos, acrescentando o recurso de mostrar que tipo de triânculo será formado\n",
    "#EQUILATERIO: todos os lados iguais\n",
    "#ISÓSCELES: dois lados iguais\n",
    "#ESCALENO todos os lados diferentes\n",
    "\n",
    "#Resolução Guanabara\n",
    "r1 = int(input('Digite um comprimento '))\n",
    "r2 = int(input('Digite um comprimento '))\n",
    "r3 = int(input('Digite um comprimento '))\n",
    "if r1 < r2 + r3 and r2 < r1 + r3 and r3 < r1 + r2:\n",
    "  print(\"Os segmentos acima PODEM formar um triângulo \", end='')\n",
    "  if r1 == r2 == r3:\n",
    "    print('EQUILATERO')\n",
    "  elif r1 != r2 != r3!= r1:\n",
    "    print ('ESCALENO')  \n",
    "  else:\n",
    "    print ('ISOCELES')  \n",
    "else:\n",
    "  print(\"Os segmentos NÃO PODEM formar triângulo\")"
   ]
  }
 ],
 "metadata": {
  "language_info": {
   "name": "python"
  },
  "orig_nbformat": 4
 },
 "nbformat": 4,
 "nbformat_minor": 2
}
