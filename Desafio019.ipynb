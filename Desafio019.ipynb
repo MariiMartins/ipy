{
 "cells": [
  {
   "cell_type": "code",
   "execution_count": null,
   "metadata": {},
   "outputs": [],
   "source": [
    "#Um professor quer sortear um dos seus quatro alunos para apagar o quadro. Faça um programa que ajude ele, lendo o nome dos alunos e escrevendo na tela o nome do escolhido\n",
    "#Resolução Guanabara\n",
    "import random\n",
    "n1 = str(input('Nome do Primeiro aluno: '))\n",
    "n2 = str(input('Nome do Segundo aluno: '))\n",
    "n3 = str(input('Nome do Terceiro aluno: '))\n",
    "n4 = str(input('Nome do Quarto aluno: '))\n",
    "lista =[n1, n2, n3, n4]\n",
    "escolhido = random.choice(lista)\n",
    "print ('O aluno escolhido foi {}'.format(escolhido))"
   ]
  }
 ],
 "metadata": {
  "language_info": {
   "name": "python"
  },
  "orig_nbformat": 4
 },
 "nbformat": 4,
 "nbformat_minor": 2
}
