{
 "cells": [
  {
   "cell_type": "code",
   "execution_count": null,
   "metadata": {},
   "outputs": [],
   "source": [
    "#Desafio047\n",
    "#Crie um programa que mostre na tela todos os números pares que estão no intervalo entre 1 e 50\n",
    "for c in range (1, 51):\n",
    "  if c %2 == 0:\n",
    "    print(c)"
   ]
  }
 ],
 "metadata": {
  "language_info": {
   "name": "python"
  },
  "orig_nbformat": 4
 },
 "nbformat": 4,
 "nbformat_minor": 2
}
