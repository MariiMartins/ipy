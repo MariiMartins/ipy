{
 "cells": [
  {
   "cell_type": "code",
   "execution_count": null,
   "metadata": {},
   "outputs": [],
   "source": [
    "#Faça um programa que leia 3 numeros e mostre qual é o maior e qual é o menor\n",
    "n1 = int(input('Digita um numero ae '))\n",
    "n2 = int(input('Digita outro numero ae '))\n",
    "n3 = int(input('Digita o terceiro numero ae '))\n",
    "maior = n1\n",
    "if (n2 > maior):\n",
    "  maior = n2\n",
    "if (n3 > maior):\n",
    "  maior = n3\n",
    "print('Maior: ',maior)\n",
    "\n",
    "menor = n1\n",
    "if (n2 < menor):\n",
    "  menor = n2\n",
    "if (n3 < menor):\n",
    "  menor = n3\n",
    "print('Menor: ',menor)\n",
    "\n",
    "#Resolução Guanabara\n",
    "a = int(input('Digita um numero ae '))\n",
    "b = int(input('Digita outro numero ae '))\n",
    "c = int(input('Digita o terceiro numero ae '))\n",
    "menor = a\n",
    "if b < a and b < c:\n",
    "\tmenor = b\n",
    "if c < a and c < b:\n",
    "\tmenor = c\n",
    "print('O menor valor digitado é {}'.format(menor))\n",
    "\n",
    "maior = a\n",
    "if b > a and b > c:\n",
    "\tmaior = b\n",
    "if c > a and c > b:\n",
    "\tmaior = c\n",
    "print('O maior valor digitado é {}'.format(maior))\n"
   ]
  }
 ],
 "metadata": {
  "language_info": {
   "name": "python"
  },
  "orig_nbformat": 4
 },
 "nbformat": 4,
 "nbformat_minor": 2
}
