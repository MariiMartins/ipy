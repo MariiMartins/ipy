import pandas as pd
import numpy as np
from elasticsearch import Elasticsearch, helpers

import matplotlib.pyplot as plt
import seaborn as sns
sns.set()

import plotly.offline as py

py.init_notebook_mode()
%matplotlib inline
