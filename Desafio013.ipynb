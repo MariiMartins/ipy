{
 "cells": [
  {
   "cell_type": "code",
   "execution_count": null,
   "metadata": {},
   "outputs": [],
   "source": [
    "#Desafio013\n",
    "#Faça um algoritmo que leia o salário de um funcionário e mostre seu novo salário, com 15% de aumento\n",
    "s = float(input('Digite o salário: \\n'))\n",
    "a = (s + (s * .15))\n",
    "print('O valor após o aumento é de {}'.format(a))"
   ]
  }
 ],
 "metadata": {
  "language_info": {
   "name": "python"
  },
  "orig_nbformat": 4
 },
 "nbformat": 4,
 "nbformat_minor": 2
}
