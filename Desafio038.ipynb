{
 "cells": [
  {
   "cell_type": "code",
   "execution_count": null,
   "metadata": {},
   "outputs": [],
   "source": [
    "#Desafio038\n",
    "#Escreva um programa que leia dois numeros inteiros e compare-os, mostrando na tela uma mensagem:\n",
    "#O primeiro valor é maior\n",
    "#o segundo valor é maior\n",
    "#não existe valor maior, os dois são iguais\n",
    "\n",
    "valor1 = int(input('Digite um numero inteiro '))\n",
    "valor2 =int(input('Digite o segundo numero inteiro '))\n",
    "\n",
    "if valor1 > valor2:\n",
    "  print('O Primeiro valor é maior ')\n",
    "elif valor2 > valor1:\n",
    "  print('O Segundo valor é maior ')\n",
    "else:\n",
    "  print(' Não existe valor maior, os dois são iguais ')"
   ]
  }
 ],
 "metadata": {
  "language_info": {
   "name": "python"
  },
  "orig_nbformat": 4
 },
 "nbformat": 4,
 "nbformat_minor": 2
}
