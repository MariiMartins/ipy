{
 "cells": [
  {
   "cell_type": "code",
   "execution_count": null,
   "metadata": {},
   "outputs": [],
   "source": [
    "#Faça um programa que leia o nome completo de uma pessoa, mostrando em seguida o primeiro e o último nome separadamente\n",
    "nome = str(input('Digite seu nome completo: ')).strip()\n",
    "print('Seu primeiro nome é {}'. format(nome.))\n",
    "print ('Seu ultimo nome é {}'. format(nome.))\n",
    "\n",
    "#Resolução Guanabara\n",
    "n = str(input('Digite seu nome completo: ')).strip()\n",
    "nome = n.split()\n",
    "print('Seu primeiro nome é {}'.format(nome[0]))\n",
    "print('Seu ultimo nome é {}'.format(nome[len(nome)-1]))"
   ]
  }
 ],
 "metadata": {
  "language_info": {
   "name": "python"
  },
  "orig_nbformat": 4
 },
 "nbformat": 4,
 "nbformat_minor": 2
}
