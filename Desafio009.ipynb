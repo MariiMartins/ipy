{
 "cells": [
  {
   "cell_type": "code",
   "execution_count": null,
   "metadata": {},
   "outputs": [],
   "source": [
    "#Desafio 009\n",
    "#Faça um programa que leia um numero inteiro qualquer e mostre na tela sua tabuada\n",
    "n1 = int(input('Digita o valor ae: \\n'))\n",
    "a1 = (n1 * 1)\n",
    "a2 = (n1 * 2)\n",
    "a3 = (n1 * 3)\n",
    "a4 = (n1 * 4)\n",
    "a5 = (n1 * 5)\n",
    "a6 = (n1 * 6)\n",
    "a7 = (n1 * 7)\n",
    "a8 = (n1 * 8)\n",
    "a9 = (n1 * 9)\n",
    "a10 = (n1 * 10)\n",
    "print('Sua tabuada é: \\n {}\\n {}\\n {}\\n {}\\n {}\\n {}\\n {}\\n {}\\n {}\\n {}\\n'\n",
    "      .format(a1, a2, a3, a4, a5, a6, a7, a8, a9, a10))\n",
    "\n",
    "#Resolução Guanabara\n",
    "num = int(input('Digita um numero para ver sua tabuada: \\n'))\n",
    "print(\"-\" *12)\n",
    "print('{} x {:2} = {}'.format(num, 1, num * 1))\n",
    "print('{} x {:2} = {}'.format(num, 2, num * 2))\n",
    "print('{} x {:2} = {}'.format(num, 3, num * 3))\n",
    "print('{} x {:2} = {}'.format(num, 4, num * 4))\n",
    "print('{} x {:2} = {}'.format(num, 5, num * 5))\n",
    "print('{} x {:2} = {}'.format(num, 6, num * 6))\n",
    "print('{} x {:2} = {}'.format(num, 7, num * 7))\n",
    "print('{} x {:2} = {}'.format(num, 8, num * 8))\n",
    "print('{} x {:2} = {}'.format(num, 9, num * 9))\n",
    "print('{} x {} = {}'.format(num, 10, num * 10))\n",
    "print(\"-\" *12)"
   ]
  }
 ],
 "metadata": {
  "language_info": {
   "name": "python"
  },
  "orig_nbformat": 4
 },
 "nbformat": 4,
 "nbformat_minor": 2
}
