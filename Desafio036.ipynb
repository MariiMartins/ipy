{
 "cells": [
  {
   "cell_type": "code",
   "execution_count": null,
   "metadata": {},
   "outputs": [],
   "source": [
    "#Desafio036\n",
    "#Escreva um programa para aprovar empréstimo bancário para a compra de uma casa. O programa vai perguntar o valor da casa, o salário do comprador e em quantos anos ele vai pagar. Calcule o valor da prestação mensal, sabendo que ela não pode exceder 30% do salario ou então o emprestimo será negado.\n",
    "\n",
    "casa = float (input('Qual o valor da casa? '))\n",
    "salario= float (input('Qual seu salário? '))\n",
    "tempo = float (input('Em quanto tempo em anos pretende pagar? '))\n",
    "\n",
    "valor = salario*0.3\n",
    "meses = tempo*12\n",
    "prestacao = casa/meses\n",
    "\n",
    "print('O valor de {}, e com o salario de {} pretendendo pagar em {} anos, a prestação será de {:.2f}'.format(casa,salario, tempo, prestacao))\n",
    "\n",
    "if prestacao >= valor:\n",
    "  print('Emprestimo negado')\n",
    "else:\n",
    "    print('Sua prestação é de {:.2f}'.format(prestacao))"
   ]
  }
 ],
 "metadata": {
  "language_info": {
   "name": "python"
  },
  "orig_nbformat": 4
 },
 "nbformat": 4,
 "nbformat_minor": 2
}
