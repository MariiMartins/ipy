{
 "cells": [
  {
   "cell_type": "code",
   "execution_count": null,
   "metadata": {},
   "outputs": [],
   "source": [
    "#Crie um programa que leia o nome de uma cidade e diga se ela começa ou não com o nome 'SANTO'\n",
    "cidade = str(input('Digite sua Cidade: ')).upper().strip()\n",
    "cid = 'SANTO' in cidade\n",
    "print (cid)\n",
    "\n",
    "#Resolução Guanabara\n",
    "cid = str(input('Digite sua Cidade: ')).strip()\n",
    "print (cid[:5].upper() == 'SANTO')"
   ]
  }
 ],
 "metadata": {
  "language_info": {
   "name": "python"
  },
  "orig_nbformat": 4
 },
 "nbformat": 4,
 "nbformat_minor": 2
}
