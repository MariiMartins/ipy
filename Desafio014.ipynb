{
 "cells": [
  {
   "cell_type": "code",
   "execution_count": null,
   "metadata": {},
   "outputs": [],
   "source": [
    "#Resolução Guanabara | Não teve enunciado anterior\n",
    "c = float(input('Digite a temperatura em ºC '))\n",
    "ke = float(c + 273.15)\n",
    "f = float(c * (9 / 5) + 32)\n",
    "\n",
    "print('A temperatura {} °C, corresponde a {} °F e a {} °K'.format(c, f, ke))"
   ]
  }
 ],
 "metadata": {
  "language_info": {
   "name": "python"
  },
  "orig_nbformat": 4
 },
 "nbformat": 4,
 "nbformat_minor": 2
}
