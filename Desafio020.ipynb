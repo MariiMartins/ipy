{
 "cells": [
  {
   "cell_type": "code",
   "execution_count": null,
   "metadata": {},
   "outputs": [],
   "source": [
    "#O mesmo professor do desafio 19 quer sortear a ordem de apresentação de trabalho dos alunos. faça um programa que leia o nome dos quatro alinos e mostre a ordem sorteada\n",
    "#Resolução Guanabara\n",
    "import random\n",
    "n1 = str(input('Nome do Primeiro aluno: '))\n",
    "n2 = str(input('Nome do Segundo aluno: '))\n",
    "n3 = str(input('Nome do Terceiro aluno: '))\n",
    "n4 = str(input('Nome do Quarto aluno: '))\n",
    "lista =[n1, n2, n3, n4]\n",
    "random.shuffle(lista)\n",
    "print ('A ordem de apresentação será ')\n",
    "print (lista)"
   ]
  }
 ],
 "metadata": {
  "language_info": {
   "name": "python"
  },
  "orig_nbformat": 4
 },
 "nbformat": 4,
 "nbformat_minor": 2
}
